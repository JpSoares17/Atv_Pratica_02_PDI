{
 "cells": [
  {
   "attachments": {},
   "cell_type": "markdown",
   "metadata": {},
   "source": [
    "QUESTÃO 01"
   ]
  },
  {
   "attachments": {},
   "cell_type": "markdown",
   "metadata": {},
   "source": [
    "Importações Necessárias"
   ]
  },
  {
   "cell_type": "code",
   "execution_count": 1,
   "metadata": {},
   "outputs": [],
   "source": [
    "from PIL import Image\n",
    "from statistics import *\n",
    "import random\n",
    "from math import *\n",
    "from typing import Final\n",
    "\n",
    "qtdMaksKuwahara: Final = 4\n",
    "qtdMaksTomitaTsuji: Final = 5\n",
    "qtdMaksNagaoMatsuyama: Final = 9\n",
    "qtdMaksSomboonkaew: Final = 12"
   ]
  },
  {
   "attachments": {},
   "cell_type": "markdown",
   "metadata": {},
   "source": [
    "Realce"
   ]
  },
  {
   "cell_type": "code",
   "execution_count": 2,
   "metadata": {},
   "outputs": [],
   "source": [
    "def filtroRealce(Input:Image, tamJanela:int) -> Image:\n",
    "    Output = Input.copy()\n",
    "    tamInput = Input.size\n",
    "    for x in range(tamJanela - 1, tamInput[0] - tamJanela + 1):\n",
    "        for y in range(tamJanela - 1, tamInput[1] - tamJanela + 1):\n",
    "            scan = []\n",
    "\n",
    "            for i in range((-1) * floor(tamJanela / 2), ceil(tamJanela / 2)):\n",
    "                for j in range((-1) * floor(tamJanela / 2), ceil(tamJanela / 2)):\n",
    "                    scan.append(Input.getpixel((x + i, y + j)))\n",
    "\n",
    "            Output.putpixel((x, y), median(scan))\n",
    "\n",
    "    return Output"
   ]
  },
  {
   "attachments": {},
   "cell_type": "markdown",
   "metadata": {},
   "source": [
    "Suavização"
   ]
  },
  {
   "cell_type": "code",
   "execution_count": 3,
   "metadata": {},
   "outputs": [],
   "source": [
    "def filtroMedia(Input:Image, tamJanela:int) -> Image:\n",
    "    Output = Input.copy()\n",
    "    tamInput = Input.size\n",
    "    for x in range(tamJanela - 1, tamInput[0] - tamJanela + 1):\n",
    "        for y in range(tamJanela - 1, tamInput[1] - tamJanela + 1):\n",
    "            scan = []\n",
    "\n",
    "            for i in range((-1) * floor(tamJanela / 2), ceil(tamJanela / 2)):\n",
    "                for j in range((-1) * floor(tamJanela / 2), ceil(tamJanela / 2)):\n",
    "                    scan.append(Input.getpixel((x + i, y + j)))\n",
    "\n",
    "            Output.putpixel((x, y), round(mean(scan)))\n",
    "    return Output"
   ]
  },
  {
   "attachments": {},
   "cell_type": "markdown",
   "metadata": {},
   "source": [
    "Mínima Variância"
   ]
  },
  {
   "cell_type": "code",
   "execution_count": 4,
   "metadata": {},
   "outputs": [],
   "source": [
    "def minVar(regioes:list) -> list:\n",
    "    regiaoMinima = regioes[0]\n",
    "    varRegiaoMinima = variance(regioes[0])\n",
    "    for mask in regioes:\n",
    "        if variance(mask) < varRegiaoMinima:\n",
    "            regiaoMinima = mask\n",
    "            varRegiaoMinima = variance(mask)\n",
    "    return regiaoMinima"
   ]
  },
  {
   "attachments": {},
   "cell_type": "markdown",
   "metadata": {},
   "source": [
    "Função Sal e Pimenta"
   ]
  },
  {
   "cell_type": "code",
   "execution_count": 5,
   "metadata": {},
   "outputs": [],
   "source": [
    "def salPimenta(imagemOrig:Image, pSal:float, pPimenta:float) -> Image:\n",
    "    imagemNoised = imagemOrig.copy()\n",
    "    tam = imagemNoised.size\n",
    "    for i in range(round(tam[0] * tam[1] * pSal)):\n",
    "        x = round(random.random() * tam[0]) - 1\n",
    "        y = round(random.random() * tam[1]) - 1\n",
    "        imagemNoised.putpixel((x, y), 255)\n",
    "    for i in range(round(tam[0] * tam[1] * pPimenta)):\n",
    "        x = round(random.random() * tam[0]) - 1\n",
    "        y = round(random.random() * tam[1]) - 1\n",
    "        imagemNoised.putpixel((x, y), 0)\n",
    "    return imagemNoised"
   ]
  },
  {
   "attachments": {},
   "cell_type": "markdown",
   "metadata": {},
   "source": [
    "Kuwahara et al. (1976)"
   ]
  },
  {
   "cell_type": "code",
   "execution_count": 6,
   "metadata": {},
   "outputs": [],
   "source": [
    "def kuwahara(imagemRui:Image, tamJanela:int):\n",
    "    imagemRec = imagemRui.copy()\n",
    "    tamImage = imagemRui.size\n",
    "    for x in range(tamJanela - 1, tamImage[0] - tamJanela + 1):\n",
    "        for y in range(tamJanela - 1, tamImage[1] - tamJanela + 1):\n",
    "            masks = [[] for _ in range(qtdMaksKuwahara)]\n",
    "\n",
    "            for i in range(tamJanela - 1, -1, -1):\n",
    "                for j in range(tamJanela - 1, -1, -1):\n",
    "                    masks[0].append(imagemRui.getpixel((x - i, y - j)))\n",
    "                    masks[1].append(imagemRui.getpixel((x + i, y - j)))\n",
    "                    masks[2].append(imagemRui.getpixel((x - i, y + i)))\n",
    "                    masks[3].append(imagemRui.getpixel((x + i, y + j)))\n",
    "            \n",
    "            maskMin = minVar(masks)\n",
    "            media = round(mean(maskMin))\n",
    "            imagemRec.putpixel((x, y), media)\n",
    "    return imagemRec"
   ]
  },
  {
   "attachments": {},
   "cell_type": "markdown",
   "metadata": {},
   "source": [
    "Tomita e Tsuji (1977)"
   ]
  },
  {
   "cell_type": "code",
   "execution_count": 10,
   "metadata": {},
   "outputs": [],
   "source": [
    "def tomita_tsuji(imagemRui:Image):\n",
    "    imagemRec = imagemRui.copy()\n",
    "    tamImage = imagemRui.size\n",
    "    for x in range(2, tamImage[0] - 2):\n",
    "        for y in range(2, tamImage[1] - 2):\n",
    "            masks = [[] for _ in range(qtdMaksTomitaTsuji)]\n",
    "\n",
    "            for i in range(2, -1, -1):\n",
    "                for j in range(2, -1, -1):\n",
    "                    masks[0].append(imagemRui.getpixel((x - j, y - i)))\n",
    "                    masks[1].append(imagemRui.getpixel((x + j, y - i)))\n",
    "                    masks[2].append(imagemRui.getpixel((x - j, y + i)))\n",
    "                    masks[3].append(imagemRui.getpixel((x + j, y + i)))\n",
    "            \n",
    "            for i in range(-1, 2):\n",
    "                for j in range(-1, 2):\n",
    "                    masks[4].append(imagemRui.getpixel((x + i, y + j)))\n",
    "            \n",
    "            maskMin = minVar(masks)\n",
    "            media = round(mean(maskMin))\n",
    "            imagemRec.putpixel((x, y), media)\n",
    "    return imagemRec"
   ]
  },
  {
   "attachments": {},
   "cell_type": "markdown",
   "metadata": {},
   "source": [
    "Nagao e Matsuyama (1979)"
   ]
  },
  {
   "cell_type": "code",
   "execution_count": 14,
   "metadata": {},
   "outputs": [],
   "source": [
    "def nagao_matsuyama(imagemRui:Image):\n",
    "    imagemRec = imagemRui.copy()\n",
    "    tamImage = imagemRui.size\n",
    "    for x in range(2, tamImage[0] - 2):\n",
    "        for y in range(2, tamImage[1] - 2):\n",
    "            masks = [[] for _ in range(qtdMaksNagaoMatsuyama)]\n",
    "            \n",
    "            for i in range(-1, 2):\n",
    "                for j in range(-1, 2):\n",
    "                    masks[0].append(imagemRui.getpixel((x + i, y + j)))\n",
    "\n",
    "            for i in range(-1, 2):\n",
    "                for j in range(-2, 0):\n",
    "                    masks[1].append(imagemRui.getpixel((x + i, y + j)))\n",
    "                    masks[2].append(imagemRui.getpixel((x - j , y + i)))\n",
    "                    masks[3].append(imagemRui.getpixel((x + i , y - j)))\n",
    "                    masks[4].append(imagemRui.getpixel((x + j , y + i)))\n",
    "\n",
    "            for i in range(2, -1, -1):\n",
    "                for j in range(2, -1, -1):\n",
    "                    if((j != 0 and i != 2) or (j != 2 and i != 0)):\n",
    "                        masks[5].append(imagemRui.getpixel((x - j, y - i)))\n",
    "                        masks[6].append(imagemRui.getpixel((x + j, y - i)))\n",
    "                        masks[7].append(imagemRui.getpixel((x - j, y + i)))\n",
    "                        masks[8].append(imagemRui.getpixel((x + j, y + i)))\n",
    "\n",
    "            maskMin = minVar(masks)\n",
    "            media = round(mean(maskMin))\n",
    "            imagemRec.putpixel((x, y), media)\n",
    "    return imagemRec"
   ]
  },
  {
   "attachments": {},
   "cell_type": "markdown",
   "metadata": {},
   "source": [
    "Somboonkaew et. al. (1999)"
   ]
  },
  {
   "cell_type": "code",
   "execution_count": null,
   "metadata": {},
   "outputs": [],
   "source": [
    "def somboonkaew(imagemRui:Image):\n",
    "    imagemRec = imagemRui.copy()\n",
    "    tamImage = imagemRui.size\n",
    "    for x in range(2, tamImage[0] - 2):\n",
    "        for y in range(2, tamImage[1] - 2):\n",
    "            masks = [[] for _ in range(qtdMaksSomboonkaew)]\n",
    "            \n",
    "            \n",
    "\n",
    "            maskMin = minVar(masks)\n",
    "            media = round(mean(maskMin))\n",
    "            imagemRec.putpixel((x, y), media)\n",
    "    return imagemRec"
   ]
  },
  {
   "attachments": {},
   "cell_type": "markdown",
   "metadata": {},
   "source": [
    "Debug Kuwahara et al. (1976)"
   ]
  },
  {
   "cell_type": "code",
   "execution_count": 9,
   "metadata": {},
   "outputs": [],
   "source": [
    "def main():\n",
    "\n",
    "    # Abertura da imagem\n",
    "    imagem = Image.open(\"images/paisagem.jpeg\").convert(\"L\")\n",
    "\n",
    "    # Aplicação do Ruído 5% de Sal e 5% de Pimenta\n",
    "    imagemRui = salPimenta(imagem, 0.05, 0.05)\n",
    "\n",
    "    # Salvando a imagem Ruidosa\n",
    "    imagemRui.save(\"images/ruidosa.png\")\n",
    "\n",
    "    # Imagem Recuperada com o método de Kuwahara\n",
    "    imagemRec = kuwahara(imagemRui, 3)\n",
    "\n",
    "    # Aplicação do Filtro de Suavização\n",
    "    imagemRec = filtroMedia(imagemRec, 3)\n",
    "\n",
    "    # Aplicação do Filtro de Realce\n",
    "    imagemRec = filtroRealce(imagemRec, 3)\n",
    "\n",
    "    # Salvando a imagem recuperada\n",
    "    imagemRec.save(\"images/recuperadaKuwahara.png\")\n",
    "\n",
    "\n",
    "if __name__ == \"__main__\":\n",
    "    main()"
   ]
  },
  {
   "attachments": {},
   "cell_type": "markdown",
   "metadata": {},
   "source": [
    "Debug Tomita e Tsuji (1977)"
   ]
  },
  {
   "cell_type": "code",
   "execution_count": 12,
   "metadata": {},
   "outputs": [],
   "source": [
    "def main():\n",
    "    # Abertura da imagem\n",
    "    imagem = Image.open(\"images/paisagem.jpeg\").convert(\"L\")\n",
    "\n",
    "    # Aplicação do Ruído 5% de Sal e 5% de Pimenta\n",
    "    imagemRui = salPimenta(imagem, 0.05, 0.05)\n",
    "\n",
    "    # Salvando a imagem Ruidosa\n",
    "    imagemRui.save(\"images/ruidosa.png\")\n",
    "\n",
    "    # Imagem Recuperada com o método de Tomita e Tsuji\n",
    "    imagemRec = tomita_tsuji(imagemRui)\n",
    "\n",
    "    # Aplicação do Filtro de Suavização\n",
    "    imagemRec = filtroMedia(imagemRec, 3)\n",
    "\n",
    "    # Aplicação do Filtro de Realce\n",
    "    imagemRec = filtroRealce(imagemRec, 3)\n",
    "\n",
    "    # Salvando a imagem recuperada\n",
    "    imagemRec.save(\"images/recuperadaTomitaTsuji.png\")\n",
    "\n",
    "\n",
    "if __name__ == \"__main__\":\n",
    "    main()"
   ]
  },
  {
   "attachments": {},
   "cell_type": "markdown",
   "metadata": {},
   "source": [
    "Debug Nagao e Matsuyama (1979)"
   ]
  },
  {
   "cell_type": "code",
   "execution_count": 20,
   "metadata": {},
   "outputs": [],
   "source": [
    "def main():\n",
    "    # Abertura da imagem\n",
    "    imagem = Image.open(\"images/paisagem.jpeg\").convert(\"L\")\n",
    "\n",
    "    # Aplicação do Ruído 5% de Sal e 5% de Pimenta\n",
    "    imagemRui = salPimenta(imagem, 0.05, 0.05)\n",
    "\n",
    "    # Salvando a imagem Ruidosa\n",
    "    imagemRui.save(\"images/ruidosa.png\")\n",
    "\n",
    "    # Imagem Recuperada com o método de Nagao e Matsuyama\n",
    "    imagemRec = nagao_matsuyama(imagemRui)\n",
    "\n",
    "    # Aplicação do Filtro de Suavização\n",
    "    #imagemRec = filtroMedia(imagemRec, 3)\n",
    "\n",
    "    # Aplicação do Filtro de Realce\n",
    "    imagemRec = filtroRealce(imagemRec, 3)\n",
    "\n",
    "    # Salvando a imagem recuperada\n",
    "    imagemRec.save(\"images/recuperadaNagaoMatsuyama.png\")\n",
    "\n",
    "\n",
    "if __name__ == \"__main__\":\n",
    "    main()"
   ]
  },
  {
   "cell_type": "code",
   "execution_count": null,
   "metadata": {},
   "outputs": [],
   "source": []
  }
 ],
 "metadata": {
  "kernelspec": {
   "display_name": "Python 3",
   "language": "python",
   "name": "python3"
  },
  "language_info": {
   "codemirror_mode": {
    "name": "ipython",
    "version": 3
   },
   "file_extension": ".py",
   "mimetype": "text/x-python",
   "name": "python",
   "nbconvert_exporter": "python",
   "pygments_lexer": "ipython3",
   "version": "3.11.0"
  },
  "orig_nbformat": 4,
  "vscode": {
   "interpreter": {
    "hash": "5b58e2c4bf4e81972f68b0c6700d37529a3d80711dbd43704aa56c7199cc9bc0"
   }
  }
 },
 "nbformat": 4,
 "nbformat_minor": 2
}
