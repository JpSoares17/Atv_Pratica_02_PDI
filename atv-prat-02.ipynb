{
 "cells": [
  {
   "attachments": {},
   "cell_type": "markdown",
   "metadata": {},
   "source": [
    "QUESTÃO 01"
   ]
  },
  {
   "attachments": {},
   "cell_type": "markdown",
   "metadata": {},
   "source": [
    "Importações Necessárias"
   ]
  },
  {
   "cell_type": "code",
   "execution_count": 1,
   "metadata": {},
   "outputs": [],
   "source": [
    "from PIL import Image\n",
    "from statistics import *\n",
    "import random"
   ]
  },
  {
   "attachments": {},
   "cell_type": "markdown",
   "metadata": {},
   "source": [
    "Mínima Variância"
   ]
  },
  {
   "cell_type": "code",
   "execution_count": 6,
   "metadata": {},
   "outputs": [],
   "source": [
    "def minVar(regioes:list) -> list:\n",
    "    mino = variance(regioes[0])\n",
    "    minRegiao = regioes[0]\n",
    "    for i in range(1, len(regioes)):\n",
    "        if mino > variance(regioes[i]):\n",
    "            mino = variance(regioes[i])\n",
    "            minRegiao = regioes[i]\n",
    "    return minRegiao"
   ]
  },
  {
   "attachments": {},
   "cell_type": "markdown",
   "metadata": {},
   "source": [
    "Função Sal e Pimenta"
   ]
  },
  {
   "cell_type": "code",
   "execution_count": 3,
   "metadata": {},
   "outputs": [],
   "source": [
    "def salPimenta(imagemOrig:Image, pSal:float, pPimenta:float) -> Image:\n",
    "    imagemNoised = imagemOrig.copy()\n",
    "    tam = imagemNoised.size\n",
    "    for i in range(round(tam[0] * tam[1] * pSal)):\n",
    "        x = round(random.random() * tam[0]) - 1\n",
    "        y = round(random.random() * tam[1]) - 1\n",
    "        imagemNoised.putpixel((x, y), 255)\n",
    "    for i in range(round(tam[0] * tam[1] * pPimenta)):\n",
    "        x = round(random.random() * tam[0]) - 1\n",
    "        y = round(random.random() * tam[1]) - 1\n",
    "        imagemNoised.putpixel((x, y), 0)\n",
    "    return imagemNoised"
   ]
  },
  {
   "attachments": {},
   "cell_type": "markdown",
   "metadata": {},
   "source": [
    "Kuwahara et al. (1976)"
   ]
  },
  {
   "cell_type": "code",
   "execution_count": 8,
   "metadata": {},
   "outputs": [],
   "source": [
    "def kuwahara(imagemRui:Image, tamJanela:int):\n",
    "    imagemRec = imagemRui.copy()\n",
    "    tamImage = imagemRui.size\n",
    "    maskMin = []\n",
    "    for x in range(2, tamImage[0] - 2):\n",
    "        for y in range(2, tamImage[1] - 2):\n",
    "            mask1 = []\n",
    "            mask2 = []\n",
    "            mask3 = []\n",
    "            mask4 = []\n",
    "\n",
    "            for i in range(tamJanela - 1, -1, -1):\n",
    "                for j in range(tamJanela - 1, -1, -1):\n",
    "                    mask1.append(imagemRui.getpixel((x - j, y - i)))\n",
    "                    mask2.append(imagemRui.getpixel((x + j, y - i)))\n",
    "                    mask3.append(imagemRui.getpixel((x - j, y + i)))\n",
    "                    mask4.append(imagemRui.getpixel((x + j, y + i)))\n",
    "            \n",
    "            maskMin = minVar([mask1, mask2, mask3, mask4])\n",
    "            media = round(mean(maskMin))\n",
    "            imagemRec.putpixel((x, y), media)\n",
    "    return imagemRec\n",
    "            "
   ]
  },
  {
   "attachments": {},
   "cell_type": "markdown",
   "metadata": {},
   "source": [
    "Tomita e Tsuji (1977)"
   ]
  },
  {
   "cell_type": "code",
   "execution_count": 9,
   "metadata": {},
   "outputs": [],
   "source": [
    "def tomita_tsuji(imagemRui:Image, tamJanela:int):\n",
    "    imagemRec = imagemRui.copy()\n",
    "    tamImage = imagemRui.size\n",
    "    maskMin = []\n",
    "    for x in range(2, tamImage[0] - 2):\n",
    "        for y in range(2, tamImage[1] - 2):\n",
    "            mask1 = []\n",
    "            mask2 = []\n",
    "            mask3 = []\n",
    "            mask4 = []\n",
    "            mask5 = []\n",
    "\n",
    "            for i in range(tamJanela - 1, -1, -1):\n",
    "                for j in range(tamJanela - 1, -1, -1):\n",
    "                    mask1.append(imagemRui.getpixel((x - j, y - i)))\n",
    "                    mask2.append(imagemRui.getpixel((x + j, y - i)))\n",
    "                    mask3.append(imagemRui.getpixel((x - j, y + i)))\n",
    "                    mask4.append(imagemRui.getpixel((x + j, y + i)))\n",
    "            \n",
    "            for i in range(-1, tamJanela - 1):\n",
    "                for j in range(-1, tamJanela - 1):\n",
    "                    mask5.append(imagemRui.getpixel((x + j, y + i)))\n",
    "            \n",
    "            maskMin = minVar([mask1, mask2, mask3, mask4, mask5])\n",
    "            media = round(mean(maskMin))\n",
    "            imagemRec.putpixel((x, y), media)\n",
    "    return imagemRec"
   ]
  },
  {
   "attachments": {},
   "cell_type": "markdown",
   "metadata": {},
   "source": [
    "Nagao e Matsuyama (1979)"
   ]
  },
  {
   "cell_type": "code",
   "execution_count": null,
   "metadata": {},
   "outputs": [],
   "source": [
    "def nagao_matsuyama(imagemRui:Image, tamJanela:int):\n",
    "    imagemRec = imagemRui.copy()\n",
    "    tamImage = imagemRui.size\n",
    "    maskMin = []\n",
    "    for x in range(2, tamImage[0] - 2):\n",
    "        for y in range(2, tamImage[1] - 2):\n",
    "            mask1 = []\n",
    "            mask2 = []\n",
    "            mask3 = []\n",
    "            mask4 = []\n",
    "            mask5 = []\n",
    "            mask6 = []\n",
    "            mask7 = []\n",
    "            mask8 = []\n",
    "            mask9 = []\n",
    "            \n",
    "            for i in range(-1, tamJanela - 1):\n",
    "                for j in range(-1, tamJanela - 1):\n",
    "                    mask1.append(imagemRui.getpixel((x + j, y + i)))\n",
    "            \n",
    "            for i in range(-1, tamJanela - 1):\n",
    "                for j in range(-2, 0):\n",
    "                    mask2.append(imagemRui.getpixel((x + i, y + j)))\n",
    "                    mask3.append(imagemRui.getpixel((x + i, y - j)))\n",
    "                    mask4.append(imagemRui.getpixel((x + j, y + i)))\n",
    "                    mask5.append(imagemRui.getpixel((x - j, y + i)))\n",
    "\n",
    "            mask6.append(imagemRui.getpixel((x, y)))\n",
    "            mask6.append(imagemRui.getpixel((x - 1, y)))\n",
    "            mask6.append(imagemRui.getpixel((x, y - 1)))\n",
    "            mask6.append(imagemRui.getpixel((x - 1, y - 1)))\n",
    "            mask6.append(imagemRui.getpixel((x - 2, y - 1)))\n",
    "            mask6.append(imagemRui.getpixel((x - 1, y - 2)))\n",
    "            mask6.append(imagemRui.getpixel((x - 2, y - 2)))\n",
    "\n",
    "            mask7.append(imagemRui.getpixel((x, y)))\n",
    "            mask7.append(imagemRui.getpixel((x, y - 1)))\n",
    "            mask7.append(imagemRui.getpixel((x + 1, y)))\n",
    "            mask7.append(imagemRui.getpixel((x + 1, y - 1)))\n",
    "            mask7.append(imagemRui.getpixel((x + 1, y - 2)))\n",
    "            mask7.append(imagemRui.getpixel((x + 2, y - 1)))\n",
    "            mask7.append(imagemRui.getpixel((x + 2, y - 2)))\n",
    "\n",
    "            mask8.append(imagemRui.getpixel((x, y)))\n",
    "            \n",
    "            maskMin = minVar([mask1, mask2, mask3, mask4, mask5, mask6, mask7, mask8, mask9])\n",
    "            media = round(mean(maskMin))\n",
    "            imagemRec.putpixel((x, y), media)\n",
    "    return imagemRec"
   ]
  },
  {
   "attachments": {},
   "cell_type": "markdown",
   "metadata": {},
   "source": [
    "Debug Kuwahara et al. (1976)"
   ]
  },
  {
   "cell_type": "code",
   "execution_count": 10,
   "metadata": {},
   "outputs": [],
   "source": [
    "def main():\n",
    "    imagem = Image.open(\"images/paisagem.jpeg\").convert(\"L\")\n",
    "    imagemRui = salPimenta(imagem, 0.05, 0.05)\n",
    "    imagemRui.save(\"images/ruidosa.png\")\n",
    "    imagemRec = kuwahara(imagemRui, 3)\n",
    "    imagemRec.save(\"images/recuperadaKuwahara.png\")\n",
    "\n",
    "\n",
    "if __name__ == \"__main__\":\n",
    "    main()"
   ]
  },
  {
   "attachments": {},
   "cell_type": "markdown",
   "metadata": {},
   "source": [
    "Debug Tomita e Tsuji (1977)"
   ]
  },
  {
   "cell_type": "code",
   "execution_count": 15,
   "metadata": {},
   "outputs": [],
   "source": [
    "def main():\n",
    "    imagem = Image.open(\"images/paisagem.jpeg\").convert(\"L\")\n",
    "    imagemRui = salPimenta(imagem, 0.05, 0.05)\n",
    "    imagemRui.save(\"images/ruidosa.png\")\n",
    "    imagemRec = tomita_tsuji(imagemRui, 3)\n",
    "    imagemRec.save(\"images/recuperadaTomitaTsuji.png\")\n",
    "\n",
    "\n",
    "if __name__ == \"__main__\":\n",
    "    main()"
   ]
  }
 ],
 "metadata": {
  "kernelspec": {
   "display_name": "Python 3",
   "language": "python",
   "name": "python3"
  },
  "language_info": {
   "codemirror_mode": {
    "name": "ipython",
    "version": 3
   },
   "file_extension": ".py",
   "mimetype": "text/x-python",
   "name": "python",
   "nbconvert_exporter": "python",
   "pygments_lexer": "ipython3",
   "version": "3.10.6"
  },
  "orig_nbformat": 4,
  "vscode": {
   "interpreter": {
    "hash": "916dbcbb3f70747c44a77c7bcd40155683ae19c65e1c03b4aa3499c5328201f1"
   }
  }
 },
 "nbformat": 4,
 "nbformat_minor": 2
}
