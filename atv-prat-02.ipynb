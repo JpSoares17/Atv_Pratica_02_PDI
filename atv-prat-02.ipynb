{
 "cells": [
  {
   "attachments": {},
   "cell_type": "markdown",
   "metadata": {},
   "source": [
    "QUESTÃO 01"
   ]
  },
  {
   "attachments": {},
   "cell_type": "markdown",
   "metadata": {},
   "source": [
    "Importações Necessárias"
   ]
  },
  {
   "cell_type": "code",
   "execution_count": 2,
   "metadata": {},
   "outputs": [],
   "source": [
    "from PIL import Image\n",
    "from statistics import *\n",
    "import random\n",
    "from math import *\n",
    "from typing import Final\n",
    "\n",
    "qtdMaksKuwahara: Final = 4\n",
    "qtdMaksTomitaTsuji: Final = 5\n",
    "qtdMaksNagaoMatsuyama: Final = 9"
   ]
  },
  {
   "attachments": {},
   "cell_type": "markdown",
   "metadata": {},
   "source": [
    "Suavização"
   ]
  },
  {
   "cell_type": "code",
   "execution_count": null,
   "metadata": {},
   "outputs": [],
   "source": [
    "def filtroMedia(Input:Image, tamJanela:int) -> Image:\n",
    "    Output = Input.copy()\n",
    "    tamInput = Input.size\n",
    "    for x in range(tamJanela - 1, tamInput[0] - tamJanela + 1):\n",
    "        for y in range(tamJanela - 1, tamInput[1] - tamJanela + 1):\n",
    "            pass\n",
    "    return Output"
   ]
  },
  {
   "attachments": {},
   "cell_type": "markdown",
   "metadata": {},
   "source": [
    "Mínima Variância"
   ]
  },
  {
   "cell_type": "code",
   "execution_count": 3,
   "metadata": {},
   "outputs": [],
   "source": [
    "def minVar(regioes:list) -> list:\n",
    "    regiaoMinima = regioes[0]\n",
    "    varRegiaoMinima = variance(regioes[0])\n",
    "    for mask in regioes:\n",
    "        if variance(mask) < varRegiaoMinima:\n",
    "            regiaoMinima = mask\n",
    "            varRegiaoMinima = variance(mask)\n",
    "    return regiaoMinima"
   ]
  },
  {
   "attachments": {},
   "cell_type": "markdown",
   "metadata": {},
   "source": [
    "Função Sal e Pimenta"
   ]
  },
  {
   "cell_type": "code",
   "execution_count": 4,
   "metadata": {},
   "outputs": [],
   "source": [
    "def salPimenta(imagemOrig:Image, pSal:float, pPimenta:float) -> Image:\n",
    "    imagemNoised = imagemOrig.copy()\n",
    "    tam = imagemNoised.size\n",
    "    for i in range(round(tam[0] * tam[1] * pSal)):\n",
    "        x = round(random.random() * tam[0]) - 1\n",
    "        y = round(random.random() * tam[1]) - 1\n",
    "        imagemNoised.putpixel((x, y), 255)\n",
    "    for i in range(round(tam[0] * tam[1] * pPimenta)):\n",
    "        x = round(random.random() * tam[0]) - 1\n",
    "        y = round(random.random() * tam[1]) - 1\n",
    "        imagemNoised.putpixel((x, y), 0)\n",
    "    return imagemNoised"
   ]
  },
  {
   "attachments": {},
   "cell_type": "markdown",
   "metadata": {},
   "source": [
    "Kuwahara et al. (1976)"
   ]
  },
  {
   "cell_type": "code",
   "execution_count": 5,
   "metadata": {},
   "outputs": [],
   "source": [
    "def kuwahara(imagemRui:Image, tamJanela:int):\n",
    "    imagemRec = imagemRui.copy()\n",
    "    tamImage = imagemRui.size\n",
    "    for x in range(tamJanela - 1, tamImage[0] - tamJanela + 1):\n",
    "        for y in range(tamJanela - 1, tamImage[1] - tamJanela + 1):\n",
    "            masks = [[] for _ in range(qtdMaksKuwahara)]\n",
    "\n",
    "            for i in range(tamJanela - 1, -1, -1):\n",
    "                for j in range(tamJanela - 1, -1, -1):\n",
    "                    masks[0].append(imagemRui.getpixel((x - i, y - j)))\n",
    "                    masks[1].append(imagemRui.getpixel((x + i, y - j)))\n",
    "                    masks[2].append(imagemRui.getpixel((x - i, y + i)))\n",
    "                    masks[3].append(imagemRui.getpixel((x + i, y + j)))\n",
    "            \n",
    "            maskMin = minVar(masks)\n",
    "            media = round(mean(maskMin))\n",
    "            imagemRec.putpixel((x, y), media)\n",
    "    return imagemRec"
   ]
  },
  {
   "attachments": {},
   "cell_type": "markdown",
   "metadata": {},
   "source": [
    "Tomita e Tsuji (1977)"
   ]
  },
  {
   "cell_type": "code",
   "execution_count": 6,
   "metadata": {},
   "outputs": [],
   "source": [
    "def tomita_tsuji(imagemRui:Image, tamJanela:int):\n",
    "    imagemRec = imagemRui.copy()\n",
    "    tamImage = imagemRui.size\n",
    "    maskMin = []\n",
    "    for x in range(tamJanela - 1, tamImage[0] - tamJanela + 1):\n",
    "        for y in range(tamJanela - 1, tamImage[1] - tamJanela + 1):\n",
    "            masks = [[] for _ in range(qtdMaksTomitaTsuji)]\n",
    "\n",
    "            for i in range(tamJanela - 1, -1, -1):\n",
    "                for j in range(tamJanela - 1, -1, -1):\n",
    "                    masks[0].append(imagemRui.getpixel((x - j, y - i)))\n",
    "                    masks[1].append(imagemRui.getpixel((x + j, y - i)))\n",
    "                    masks[2].append(imagemRui.getpixel((x - j, y + i)))\n",
    "                    masks[3].append(imagemRui.getpixel((x + j, y + i)))\n",
    "            \n",
    "            for i in range(ceil(tamJanela / 2)):\n",
    "                masks[4].append(imagemRui.getpixel((x + i, y)))\n",
    "            \n",
    "            maskMin = minVar(masks)\n",
    "            media = round(mean(maskMin))\n",
    "            imagemRec.putpixel((x, y), media)\n",
    "    return imagemRec"
   ]
  },
  {
   "attachments": {},
   "cell_type": "markdown",
   "metadata": {},
   "source": [
    "Nagao e Matsuyama (1979)"
   ]
  },
  {
   "cell_type": "code",
   "execution_count": 7,
   "metadata": {},
   "outputs": [],
   "source": [
    "def nagao_matsuyama(imagemRui:Image, tamJanela:int):\n",
    "    imagemRec = imagemRui.copy()\n",
    "    tamImage = imagemRui.size\n",
    "    maskMin = []\n",
    "    for x in range(2, tamImage[0] - 2):\n",
    "        for y in range(2, tamImage[1] - 2):\n",
    "            mask1 = []\n",
    "            mask2 = []\n",
    "            mask3 = []\n",
    "            mask4 = []\n",
    "            mask5 = []\n",
    "            mask6 = []\n",
    "            mask7 = []\n",
    "            mask8 = []\n",
    "            mask9 = []\n",
    "            \n",
    "            for i in range(-1, tamJanela - 1):\n",
    "                for j in range(-1, tamJanela - 1):\n",
    "                    mask1.append(imagemRui.getpixel((x + j, y + i)))\n",
    "            \n",
    "            for i in range(-1, tamJanela - 1):\n",
    "                for j in range(-2, 0):\n",
    "                    mask2.append(imagemRui.getpixel((x + i, y + j)))\n",
    "                    mask3.append(imagemRui.getpixel((x + i, y - j)))\n",
    "                    mask4.append(imagemRui.getpixel((x + j, y + i)))\n",
    "                    mask5.append(imagemRui.getpixel((x - j, y + i)))\n",
    "\n",
    "            mask6.append(imagemRui.getpixel((x, y)))\n",
    "            mask6.append(imagemRui.getpixel((x - 1, y)))\n",
    "            mask6.append(imagemRui.getpixel((x, y - 1)))\n",
    "            mask6.append(imagemRui.getpixel((x - 1, y - 1)))\n",
    "            mask6.append(imagemRui.getpixel((x - 2, y - 1)))\n",
    "            mask6.append(imagemRui.getpixel((x - 1, y - 2)))\n",
    "            mask6.append(imagemRui.getpixel((x - 2, y - 2)))\n",
    "\n",
    "            mask7.append(imagemRui.getpixel((x, y)))\n",
    "            mask7.append(imagemRui.getpixel((x, y - 1)))\n",
    "            mask7.append(imagemRui.getpixel((x + 1, y)))\n",
    "            mask7.append(imagemRui.getpixel((x + 1, y - 1)))\n",
    "            mask7.append(imagemRui.getpixel((x + 1, y - 2)))\n",
    "            mask7.append(imagemRui.getpixel((x + 2, y - 1)))\n",
    "            mask7.append(imagemRui.getpixel((x + 2, y - 2)))\n",
    "\n",
    "            mask8.append(imagemRui.getpixel((x, y)))\n",
    "            \n",
    "            maskMin = minVar([mask1, mask2, mask3, mask4, mask5, mask6, mask7, mask8, mask9])\n",
    "            media = round(mean(maskMin))\n",
    "            imagemRec.putpixel((x, y), media)\n",
    "    return imagemRec"
   ]
  },
  {
   "attachments": {},
   "cell_type": "markdown",
   "metadata": {},
   "source": [
    "Debug Kuwahara et al. (1976)"
   ]
  },
  {
   "cell_type": "code",
   "execution_count": 8,
   "metadata": {},
   "outputs": [],
   "source": [
    "def main():\n",
    "\n",
    "    # Abertura da imagem\n",
    "    imagem = Image.open(\"images/paisagem.jpeg\").convert(\"L\")\n",
    "\n",
    "    # Aplicação do Ruído 5% de Sal e 5% de Pimenta\n",
    "    imagemRui = salPimenta(imagem, 0.05, 0.05)\n",
    "\n",
    "    # Salvando a imagem Ruidosa\n",
    "    imagemRui.save(\"images/ruidosa.png\")\n",
    "\n",
    "    # Foi utilizado janela de tamanho 5,\n",
    "    # pois janela com tamanho 3 ficou algumas\n",
    "    # marcas estranhas em imagens com  poucos\n",
    "    # pixels (teste com uma imagem 276 x 183 pixels e 1280 x 918 pixels)\n",
    "    imagemRec = kuwahara(imagemRui, 5)\n",
    "\n",
    "    # Salvando a imagem recuperada\n",
    "    imagemRec.save(\"images/recuperadaKuwahara.png\")\n",
    "\n",
    "\n",
    "if __name__ == \"__main__\":\n",
    "    main()"
   ]
  },
  {
   "attachments": {},
   "cell_type": "markdown",
   "metadata": {},
   "source": [
    "Debug Tomita e Tsuji (1977)"
   ]
  },
  {
   "cell_type": "code",
   "execution_count": 15,
   "metadata": {},
   "outputs": [],
   "source": [
    "def main():\n",
    "    imagem = Image.open(\"images/paisagem.jpeg\").convert(\"L\")\n",
    "    imagemRui = salPimenta(imagem, 0.05, 0.05)\n",
    "    imagemRui.save(\"images/ruidosa.png\")\n",
    "    imagemRec = tomita_tsuji(imagemRui, 3)\n",
    "    imagemRec.save(\"images/recuperadaTomitaTsuji.png\")\n",
    "\n",
    "\n",
    "if __name__ == \"__main__\":\n",
    "    main()"
   ]
  }
 ],
 "metadata": {
  "kernelspec": {
   "display_name": "Python 3",
   "language": "python",
   "name": "python3"
  },
  "language_info": {
   "codemirror_mode": {
    "name": "ipython",
    "version": 3
   },
   "file_extension": ".py",
   "mimetype": "text/x-python",
   "name": "python",
   "nbconvert_exporter": "python",
   "pygments_lexer": "ipython3",
   "version": "3.11.0"
  },
  "orig_nbformat": 4,
  "vscode": {
   "interpreter": {
    "hash": "5b58e2c4bf4e81972f68b0c6700d37529a3d80711dbd43704aa56c7199cc9bc0"
   }
  }
 },
 "nbformat": 4,
 "nbformat_minor": 2
}
